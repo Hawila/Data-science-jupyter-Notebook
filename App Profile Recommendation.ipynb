{
 "cells": [
  {
   "cell_type": "markdown",
   "metadata": {},
   "source": [
    "# App Profile Recommendation\n",
    "collect and analyze data about mobile apps available on Google Play and the App Storeto help our developers understand what type of apps are likely to attract more users."
   ]
  },
  {
   "cell_type": "markdown",
   "metadata": {},
   "source": [
    "This Function to make it easy to explore datasets "
   ]
  },
  {
   "cell_type": "code",
   "execution_count": 1,
   "metadata": {
    "collapsed": true
   },
   "outputs": [],
   "source": [
    "def explore_data(dataset, start, end, rows_and_columns=False):\n",
    "    dataset_slice = dataset[start:end]    \n",
    "    for row in dataset_slice:\n",
    "        print(row)\n",
    "        print('\\n') # adds a new (empty) line after each row\n",
    "\n",
    "    if rows_and_columns:\n",
    "        print('Number of rows:', len(dataset) -1)\n",
    "        print('Number of columns:', len(dataset[0]) -1)"
   ]
  },
  {
   "cell_type": "markdown",
   "metadata": {},
   "source": [
    "we open the two data sets You can Find them Here:\n",
    "https://www.kaggle.com/lava18/google-play-store-apps containing data about approximately ten thousand Android apps from Google Play.\n",
    "https://www.kaggle.com/ramamet4/app-store-apple-data-set-10k-apps containing data about approximately seven thousand iOS apps from the App Store."
   ]
  },
  {
   "cell_type": "code",
   "execution_count": 2,
   "metadata": {
    "collapsed": false
   },
   "outputs": [],
   "source": [
    "from csv import reader\n",
    "apple_file = open('AppleStore.csv')\n",
    "read_apple = reader(apple_file)\n",
    "apple_data = list(read_apple)\n",
    "android_file = open('googleplaystore.csv')\n",
    "read_android = reader(android_file)\n",
    "android_list = list(read_android)\n"
   ]
  },
  {
   "cell_type": "markdown",
   "metadata": {},
   "source": [
    "Now we explore a few rows of both data Sets and  number of rows \n",
    "and columns of each set"
   ]
  },
  {
   "cell_type": "code",
   "execution_count": 3,
   "metadata": {
    "collapsed": false
   },
   "outputs": [
    {
     "name": "stdout",
     "output_type": "stream",
     "text": [
      "['284882215', 'Facebook', '389879808', 'USD', '0.0', '2974676', '212', '3.5', '3.5', '95.0', '4+', 'Social Networking', '37', '1', '29', '1']\n",
      "\n",
      "\n",
      "['389801252', 'Instagram', '113954816', 'USD', '0.0', '2161558', '1289', '4.5', '4.0', '10.23', '12+', 'Photo & Video', '37', '0', '29', '1']\n",
      "\n",
      "\n",
      "['529479190', 'Clash of Clans', '116476928', 'USD', '0.0', '2130805', '579', '4.5', '4.5', '9.24.12', '9+', 'Games', '38', '5', '18', '1']\n",
      "\n",
      "\n",
      "['420009108', 'Temple Run', '65921024', 'USD', '0.0', '1724546', '3842', '4.5', '4.0', '1.6.2', '9+', 'Games', '40', '5', '1', '1']\n",
      "\n",
      "\n",
      "Number of rows: 7197\n",
      "Number of columns: 15\n",
      "['Photo Editor & Candy Camera & Grid & ScrapBook', 'ART_AND_DESIGN', '4.1', '159', '19M', '10,000+', 'Free', '0', 'Everyone', 'Art & Design', 'January 7, 2018', '1.0.0', '4.0.3 and up']\n",
      "\n",
      "\n",
      "['Coloring book moana', 'ART_AND_DESIGN', '3.9', '967', '14M', '500,000+', 'Free', '0', 'Everyone', 'Art & Design;Pretend Play', 'January 15, 2018', '2.0.0', '4.0.3 and up']\n",
      "\n",
      "\n",
      "['U Launcher Lite – FREE Live Cool Themes, Hide Apps', 'ART_AND_DESIGN', '4.7', '87510', '8.7M', '5,000,000+', 'Free', '0', 'Everyone', 'Art & Design', 'August 1, 2018', '1.2.4', '4.0.3 and up']\n",
      "\n",
      "\n",
      "['Sketch - Draw & Paint', 'ART_AND_DESIGN', '4.5', '215644', '25M', '50,000,000+', 'Free', '0', 'Teen', 'Art & Design', 'June 8, 2018', 'Varies with device', '4.2 and up']\n",
      "\n",
      "\n",
      "Number of rows: 10841\n",
      "Number of columns: 12\n"
     ]
    }
   ],
   "source": [
    "explore_data(apple_data,1,5,True)\n",
    "explore_data(android_list,1,5,True)"
   ]
  },
  {
   "cell_type": "markdown",
   "metadata": {},
   "source": [
    "Then we print the column Names which is the first row of both data sets"
   ]
  },
  {
   "cell_type": "code",
   "execution_count": 4,
   "metadata": {
    "collapsed": false,
    "scrolled": false
   },
   "outputs": [
    {
     "name": "stdout",
     "output_type": "stream",
     "text": [
      "['id', 'track_name', 'size_bytes', 'currency', 'price', 'rating_count_tot', 'rating_count_ver', 'user_rating', 'user_rating_ver', 'ver', 'cont_rating', 'prime_genre', 'sup_devices.num', 'ipadSc_urls.num', 'lang.num', 'vpp_lic']\n",
      " \n",
      "['App', 'Category', 'Rating', 'Reviews', 'Size', 'Installs', 'Type', 'Price', 'Content Rating', 'Genres', 'Last Updated', 'Current Ver', 'Android Ver']\n"
     ]
    }
   ],
   "source": [
    "print(apple_data[0],end =\"\\n \\n\")\n",
    "print(android_list[0])"
   ]
  },
  {
   "cell_type": "markdown",
   "metadata": {},
   "source": [
    "# Data Cleaning \n",
    "There is an error for row 10472. Let's print this row and compare it against the header and another row that is correct"
   ]
  },
  {
   "cell_type": "code",
   "execution_count": 5,
   "metadata": {
    "collapsed": false,
    "scrolled": true
   },
   "outputs": [
    {
     "name": "stdout",
     "output_type": "stream",
     "text": [
      "['Life Made WI-Fi Touchscreen Photo Frame', '1.9', '19', '3.0M', '1,000+', 'Free', '0', 'Everyone', '', 'February 11, 2018', '1.0.19', '4.0 and up']\n",
      "\n",
      "['App', 'Category', 'Rating', 'Reviews', 'Size', 'Installs', 'Type', 'Price', 'Content Rating', 'Genres', 'Last Updated', 'Current Ver', 'Android Ver']\n",
      "\n"
     ]
    }
   ],
   "source": [
    "print(android_list[10473],end=\"\\n\\n\") #10473 cause data set contain header\n",
    "print(android_list[0],end=\"\\n\\n\")"
   ]
  },
  {
   "cell_type": "markdown",
   "metadata": {},
   "source": [
    "as mentioned in the discussions section->https://www.kaggle.com/lava18/google-play-store-apps/discussion/66015, this problem is caused by a missing value in the 'Category' column so we will delete this column"
   ]
  },
  {
   "cell_type": "code",
   "execution_count": 6,
   "metadata": {
    "collapsed": false
   },
   "outputs": [
    {
     "name": "stdout",
     "output_type": "stream",
     "text": [
      "10842\n",
      "10841\n"
     ]
    }
   ],
   "source": [
    "print(len(android_list))\n",
    "del android_list[10473] #run only 1 time to acoid remove more records\n",
    "print(len(android_list))"
   ]
  },
  {
   "cell_type": "markdown",
   "metadata": {},
   "source": [
    "# Remove duplicates Entries \n",
    "If we explore the Google Play data set long enough, we'll find that some apps have more than one entry. For instance, the application Instagram has four entries."
   ]
  },
  {
   "cell_type": "code",
   "execution_count": 7,
   "metadata": {
    "collapsed": false,
    "scrolled": true
   },
   "outputs": [
    {
     "name": "stdout",
     "output_type": "stream",
     "text": [
      "['Instagram', 'SOCIAL', '4.5', '66577313', 'Varies with device', '1,000,000,000+', 'Free', '0', 'Teen', 'Social', 'July 31, 2018', 'Varies with device', 'Varies with device']\n",
      "['Instagram', 'SOCIAL', '4.5', '66577446', 'Varies with device', '1,000,000,000+', 'Free', '0', 'Teen', 'Social', 'July 31, 2018', 'Varies with device', 'Varies with device']\n",
      "['Instagram', 'SOCIAL', '4.5', '66577313', 'Varies with device', '1,000,000,000+', 'Free', '0', 'Teen', 'Social', 'July 31, 2018', 'Varies with device', 'Varies with device']\n",
      "['Instagram', 'SOCIAL', '4.5', '66509917', 'Varies with device', '1,000,000,000+', 'Free', '0', 'Teen', 'Social', 'July 31, 2018', 'Varies with device', 'Varies with device']\n"
     ]
    }
   ],
   "source": [
    "for app in android_list:\n",
    "    name = app[0]\n",
    "    if name == 'Instagram':\n",
    "        print(app)"
   ]
  },
  {
   "cell_type": "markdown",
   "metadata": {},
   "source": [
    "next we get all duplicated apps count and names"
   ]
  },
  {
   "cell_type": "code",
   "execution_count": 8,
   "metadata": {
    "collapsed": false,
    "scrolled": true
   },
   "outputs": [
    {
     "name": "stdout",
     "output_type": "stream",
     "text": [
      "Number of duplicate apps: 1181\n",
      "\n",
      "\n",
      "Examples of duplicate apps: ['Quick PDF Scanner + OCR FREE', 'Box', 'Google My Business', 'ZOOM Cloud Meetings', 'join.me - Simple Meetings', 'Box', 'Zenefits', 'Google Ads', 'Google My Business', 'Slack', 'FreshBooks Classic', 'Insightly CRM', 'QuickBooks Accounting: Invoicing & Expenses', 'HipChat - Chat Built for Teams', 'Xero Accounting Software']\n"
     ]
    }
   ],
   "source": [
    "duplicate_apps = []\n",
    "unique_apps = []\n",
    "\n",
    "for app in android_list:\n",
    "    name = app[0]\n",
    "    if name in unique_apps:\n",
    "        duplicate_apps.append(name)\n",
    "    else:\n",
    "        unique_apps.append(name)\n",
    "    \n",
    "print('Number of duplicate apps:', len(duplicate_apps))\n",
    "print('\\n')\n",
    "print('Examples of duplicate apps:', duplicate_apps[:15])"
   ]
  },
  {
   "cell_type": "markdown",
   "metadata": {},
   "source": [
    "we want to remove the duplicated so i add the first occurance only of the app name to a new clean data sets "
   ]
  },
  {
   "cell_type": "code",
   "execution_count": 9,
   "metadata": {
    "collapsed": false
   },
   "outputs": [],
   "source": [
    "clean_android_set=[]\n",
    "duplicates = []\n",
    "for app in android_list:\n",
    "    if app[0] not in duplicates:\n",
    "        duplicates.append(app[0]) # this only append the name of duplicates\n",
    "        clean_android_set.append(app) # add the entre recored to the new set"
   ]
  },
  {
   "cell_type": "markdown",
   "metadata": {},
   "source": [
    "so the length of our new clean dataset (of unique apps) should be equal to the difference between the length of our data set and 1,181(duplicates)."
   ]
  },
  {
   "cell_type": "code",
   "execution_count": 10,
   "metadata": {
    "collapsed": false
   },
   "outputs": [
    {
     "name": "stdout",
     "output_type": "stream",
     "text": [
      "Expected length: 9659\n"
     ]
    }
   ],
   "source": [
    "print('Expected length:', len(android_list) - 1181 -1) #-1 cause of header\n"
   ]
  },
  {
   "cell_type": "markdown",
   "metadata": {},
   "source": [
    "now we explore the new data set and confirm it is clean and have 9660"
   ]
  },
  {
   "cell_type": "code",
   "execution_count": 11,
   "metadata": {
    "collapsed": false,
    "scrolled": false
   },
   "outputs": [
    {
     "name": "stdout",
     "output_type": "stream",
     "text": [
      "['App', 'Category', 'Rating', 'Reviews', 'Size', 'Installs', 'Type', 'Price', 'Content Rating', 'Genres', 'Last Updated', 'Current Ver', 'Android Ver']\n",
      "\n",
      "\n",
      "['Photo Editor & Candy Camera & Grid & ScrapBook', 'ART_AND_DESIGN', '4.1', '159', '19M', '10,000+', 'Free', '0', 'Everyone', 'Art & Design', 'January 7, 2018', '1.0.0', '4.0.3 and up']\n",
      "\n",
      "\n",
      "Number of rows: 9659\n",
      "Number of columns: 12\n"
     ]
    }
   ],
   "source": [
    "explore_data(clean_android_set,0,2,True)"
   ]
  },
  {
   "cell_type": "markdown",
   "metadata": {},
   "source": [
    "# Removing non English Apps\n",
    "There are some apps names that are not directed towrds an english-speaking\n",
    "the next function check wether the app name contains character or symbols not for english-speaking by using built-in ord() function to find out the corresponding encoding number of each character "
   ]
  },
  {
   "cell_type": "code",
   "execution_count": 12,
   "metadata": {
    "collapsed": true
   },
   "outputs": [],
   "source": [
    "def isenglishword(word):\n",
    "    \n",
    "    for char in word:\n",
    "        if ord(char) > 127:\n",
    "            return False\n",
    "    \n",
    "    return True"
   ]
  },
  {
   "cell_type": "markdown",
   "metadata": {},
   "source": [
    "but some English app names use emojis or other symbols (™, — (em dash), – (en dash), etc.) that fall outside of the ASCII range. Because of this, we'll remove useful apps if we use the function in its current form."
   ]
  },
  {
   "cell_type": "code",
   "execution_count": 13,
   "metadata": {
    "collapsed": false,
    "scrolled": true
   },
   "outputs": [
    {
     "name": "stdout",
     "output_type": "stream",
     "text": [
      "False\n",
      "False\n",
      "8482\n",
      "128540\n"
     ]
    }
   ],
   "source": [
    "\n",
    "print(isenglishword('Docs To Go™ Free Office Suite'))\n",
    "print(isenglishword('Instachat 😜'))\n",
    "\n",
    "print(ord('™'))\n",
    "print(ord('😜'))"
   ]
  },
  {
   "cell_type": "markdown",
   "metadata": {},
   "source": [
    "To minimize the impact of data loss, we'll only remove an app if its name has more than three non-ASCII characters"
   ]
  },
  {
   "cell_type": "code",
   "execution_count": 14,
   "metadata": {
    "collapsed": false
   },
   "outputs": [
    {
     "name": "stdout",
     "output_type": "stream",
     "text": [
      "True\n",
      "True\n"
     ]
    }
   ],
   "source": [
    "def is_english(string):\n",
    "    non_ascii = 0\n",
    "    \n",
    "    for character in string:\n",
    "        if ord(character) > 127:\n",
    "            non_ascii += 1\n",
    "    \n",
    "    if non_ascii > 3:\n",
    "        return False\n",
    "    else:\n",
    "        return True\n",
    "\n",
    "print(is_english('Docs To Go™ Free Office Suite'))\n",
    "print(is_english('Instachat 😜'))"
   ]
  },
  {
   "cell_type": "markdown",
   "metadata": {},
   "source": [
    "Below, we use the is_english() function to filter out the non-English apps for both data sets:"
   ]
  },
  {
   "cell_type": "code",
   "execution_count": 15,
   "metadata": {
    "collapsed": false,
    "scrolled": false
   },
   "outputs": [
    {
     "name": "stdout",
     "output_type": "stream",
     "text": [
      "['282935706', 'Bible', '92774400', 'USD', '0.0', '985920', '5320', '4.5', '5.0', '7.5.1', '4+', 'Reference', '37', '5', '45', '1']\n",
      "\n",
      "\n",
      "['553834731', 'Candy Crush Saga', '222846976', 'USD', '0.0', '961794', '2453', '4.5', '4.5', '1.101.0', '4+', 'Games', '43', '5', '24', '1']\n",
      "\n",
      "\n",
      "Number of rows: 7197\n",
      "Number of columns: 15\n",
      "['Garden Coloring Book', 'ART_AND_DESIGN', '4.4', '13791', '33M', '1,000,000+', 'Free', '0', 'Everyone', 'Art & Design', 'September 20, 2017', '2.9.2', '3.0 and up']\n",
      "\n",
      "\n",
      "['Kids Paint Free - Drawing Fun', 'ART_AND_DESIGN', '4.7', '121', '3.1M', '10,000+', 'Free', '0', 'Everyone', 'Art & Design;Creativity', 'July 3, 2018', '2.8', '4.0.3 and up']\n",
      "\n",
      "\n",
      "['Text on Photo - Fonteee', 'ART_AND_DESIGN', '4.4', '13880', '28M', '1,000,000+', 'Free', '0', 'Everyone', 'Art & Design', 'October 27, 2017', '1.0.4', '4.1 and up']\n",
      "\n",
      "\n",
      "Number of rows: 10795\n",
      "Number of columns: 12\n"
     ]
    }
   ],
   "source": [
    "android_eng = []\n",
    "ios_eng = []\n",
    "\n",
    "for app in apple_data:\n",
    "    if is_english(app[0]):\n",
    "        ios_eng.append(app)\n",
    "for app in android_list:\n",
    "    if is_english(app[0]):\n",
    "        android_eng.append(app)  \n",
    "\n",
    "explore_data(ios_eng,7,9,True)\n",
    "explore_data(android_eng,9,12,True)"
   ]
  },
  {
   "cell_type": "markdown",
   "metadata": {},
   "source": [
    "# Data Isolation\n",
    "isolate the free apps as our main source of revenue consists of in-app ads which only on free apps"
   ]
  },
  {
   "cell_type": "code",
   "execution_count": 16,
   "metadata": {
    "collapsed": false,
    "scrolled": true
   },
   "outputs": [
    {
     "name": "stdout",
     "output_type": "stream",
     "text": [
      "9999\n",
      "4056\n"
     ]
    }
   ],
   "source": [
    "android_free_apps = []\n",
    "ios_free_apps = []\n",
    "\n",
    "for app in android_eng[1:]:\n",
    "    if app[7] == '0':\n",
    "        android_free_apps.append(app)\n",
    "        \n",
    "for app in ios_eng:\n",
    "    if app[4] == '0.0':\n",
    "        ios_free_apps.append(app)\n",
    "        \n",
    "print(len(android_free_apps))\n",
    "print(len(ios_free_apps))"
   ]
  },
  {
   "cell_type": "markdown",
   "metadata": {},
   "source": [
    "# Most common apps by Genre\n",
    "as we want to determine the apps that attract most users so we are doing the following\n",
    "1 - Build a mini android app and push it to google play\n",
    "2 - if it has a good response from users we develop it \n",
    "3 - if app made profit we then develop an ios app and push it to the apple store"
   ]
  },
  {
   "cell_type": "code",
   "execution_count": 17,
   "metadata": {
    "collapsed": false
   },
   "outputs": [],
   "source": [
    "\n",
    "def freq_table(data_set,index):\n",
    "    freq_t = {}\n",
    "    freq_t_percent = {}\n",
    "    total = 0\n",
    "    for app in data_set:\n",
    "        total += 1\n",
    "        if app[index] in freq_t:\n",
    "            freq_t[app[index]] += 1\n",
    "        else:\n",
    "            freq_t[app[index]] = 1\n",
    "            \n",
    "    for key in freq_t:\n",
    "        freq_t_percent[key] = (freq_t[key] / total) * 100\n",
    "    \n",
    "    return freq_t_percent\n",
    "        \n",
    "            \n",
    "def print_asc(dictionary):\n",
    "    sorted_d = sorted(dictionary.items(), key=lambda x: x[1], reverse=True)\n",
    "    for i in sorted_d:\n",
    "        print(i[0],':',i[1],end=\"\\n\")\n",
    "        \n",
    "           "
   ]
  },
  {
   "cell_type": "markdown",
   "metadata": {},
   "source": [
    "examin the app store dataset freq"
   ]
  },
  {
   "cell_type": "code",
   "execution_count": 18,
   "metadata": {
    "collapsed": false
   },
   "outputs": [
    {
     "name": "stdout",
     "output_type": "stream",
     "text": [
      "Games : 55.64595660749507\n",
      "Entertainment : 8.234714003944774\n",
      "Photo & Video : 4.117357001972387\n",
      "Social Networking : 3.5256410256410255\n",
      "Education : 3.2544378698224854\n",
      "Shopping : 2.983234714003945\n",
      "Utilities : 2.687376725838264\n",
      "Lifestyle : 2.3175542406311638\n",
      "Finance : 2.0710059171597637\n",
      "Sports : 1.947731755424063\n",
      "Health & Fitness : 1.8737672583826428\n",
      "Music : 1.6518737672583828\n",
      "Book : 1.6272189349112427\n",
      "Productivity : 1.5285996055226825\n",
      "News : 1.4299802761341223\n",
      "Travel : 1.3806706114398422\n",
      "Food & Drink : 1.0601577909270217\n",
      "Weather : 0.7642998027613412\n",
      "Business : 0.4930966469428008\n",
      "Navigation : 0.4930966469428008\n",
      "Reference : 0.4930966469428008\n",
      "Catalogs : 0.22189349112426035\n",
      "Medical : 0.19723865877712032\n"
     ]
    }
   ],
   "source": [
    "print_asc(freq_table(ios_free_apps,11)) "
   ]
  },
  {
   "cell_type": "markdown",
   "metadata": {},
   "source": [
    "android category"
   ]
  },
  {
   "cell_type": "code",
   "execution_count": 19,
   "metadata": {
    "collapsed": false
   },
   "outputs": [
    {
     "name": "stdout",
     "output_type": "stream",
     "text": [
      "FAMILY : 17.67176717671767\n",
      "GAME : 10.591059105910592\n",
      "TOOLS : 7.640764076407641\n",
      "BUSINESS : 4.45044504450445\n",
      "PRODUCTIVITY : 3.95039503950395\n",
      "SPORTS : 3.6003600360036003\n",
      "LIFESTYLE : 3.5903590359035906\n",
      "COMMUNICATION : 3.5903590359035906\n",
      "MEDICAL : 3.5403540354035403\n",
      "FINANCE : 3.49034903490349\n",
      "HEALTH_AND_FITNESS : 3.2503250325032504\n",
      "PHOTOGRAPHY : 3.1203120312031203\n",
      "PERSONALIZATION : 3.08030803080308\n",
      "SOCIAL : 2.9202920292029204\n",
      "NEWS_AND_MAGAZINES : 2.7702770277027704\n",
      "SHOPPING : 2.5702570257025705\n",
      "TRAVEL_AND_LOCAL : 2.4602460246024602\n",
      "DATING : 2.2702270227022705\n",
      "BOOKS_AND_REFERENCE : 1.9901990199019903\n",
      "VIDEO_PLAYERS : 1.7001700170017002\n",
      "EDUCATION : 1.5101510151015103\n",
      "ENTERTAINMENT : 1.4701470147014701\n",
      "MAPS_AND_NAVIGATION : 1.3001300130013\n",
      "FOOD_AND_DRINK : 1.25012501250125\n",
      "HOUSE_AND_HOME : 0.88008800880088\n",
      "LIBRARIES_AND_DEMO : 0.8400840084008401\n",
      "AUTO_AND_VEHICLES : 0.8200820082008201\n",
      "WEATHER : 0.7400740074007401\n",
      "EVENTS : 0.6300630063006301\n",
      "ART_AND_DESIGN : 0.6100610061006101\n",
      "COMICS : 0.59005900590059\n",
      "PARENTING : 0.58005800580058\n",
      "BEAUTY : 0.53005300530053\n"
     ]
    }
   ],
   "source": [
    "print_asc(freq_table(android_free_apps,1)) "
   ]
  },
  {
   "cell_type": "markdown",
   "metadata": {},
   "source": [
    "Genres Android column"
   ]
  },
  {
   "cell_type": "code",
   "execution_count": 20,
   "metadata": {
    "collapsed": false,
    "scrolled": false
   },
   "outputs": [
    {
     "name": "stdout",
     "output_type": "stream",
     "text": [
      "Tools : 7.630763076307631\n",
      "Entertainment : 6.0006000600060005\n",
      "Education : 5.1305130513051305\n",
      "Business : 4.45044504450445\n",
      "Productivity : 3.95039503950395\n",
      "Sports : 3.74037403740374\n",
      "Communication : 3.5903590359035906\n",
      "Lifestyle : 3.5803580358035805\n",
      "Medical : 3.5403540354035403\n",
      "Finance : 3.49034903490349\n",
      "Action : 3.4103410341034106\n",
      "Health & Fitness : 3.2503250325032504\n",
      "Photography : 3.1203120312031203\n",
      "Personalization : 3.08030803080308\n",
      "Social : 2.9202920292029204\n",
      "News & Magazines : 2.7702770277027704\n",
      "Shopping : 2.5702570257025705\n",
      "Travel & Local : 2.45024502450245\n",
      "Dating : 2.2702270227022705\n",
      "Arcade : 2.0002000200020005\n",
      "Books & Reference : 1.9901990199019903\n",
      "Simulation : 1.8801880188018802\n",
      "Casual : 1.84018401840184\n",
      "Video Players & Editors : 1.6801680168016802\n",
      "Maps & Navigation : 1.3001300130013\n",
      "Food & Drink : 1.25012501250125\n",
      "Puzzle : 1.21012101210121\n",
      "Racing : 0.9500950095009502\n",
      "Strategy : 0.9300930093009301\n",
      "House & Home : 0.88008800880088\n",
      "Role Playing : 0.87008700870087\n",
      "Libraries & Demo : 0.8400840084008401\n",
      "Auto & Vehicles : 0.8200820082008201\n",
      "Weather : 0.7400740074007401\n",
      "Events : 0.6300630063006301\n",
      "Adventure : 0.6200620062006201\n",
      "Comics : 0.58005800580058\n",
      "Art & Design : 0.54005400540054\n",
      "Beauty : 0.53005300530053\n",
      "Parenting : 0.44004400440044\n",
      "Education;Education : 0.4300430043004301\n",
      "Card : 0.41004100410041006\n",
      "Educational;Education : 0.38003800380038005\n",
      "Casino : 0.38003800380038005\n",
      "Trivia : 0.37003700370037007\n",
      "Board : 0.35003500350035005\n",
      "Educational : 0.33003300330033003\n",
      "Word : 0.29002900290029\n",
      "Entertainment;Music & Video : 0.27002700270027\n",
      "Casual;Pretend Play : 0.25002500250025006\n",
      "Music : 0.21002100210021002\n",
      "Casual;Action & Adventure : 0.2000200020002\n",
      "Racing;Action & Adventure : 0.19001900190019003\n",
      "Puzzle;Brain Games : 0.17001700170017\n",
      "Educational;Pretend Play : 0.14001400140014\n",
      "Action;Action & Adventure : 0.14001400140014\n",
      "Casual;Brain Games : 0.13001300130013002\n",
      "Arcade;Action & Adventure : 0.12001200120012002\n",
      "Adventure;Action & Adventure : 0.11001100110011\n",
      "Simulation;Action & Adventure : 0.11001100110011\n",
      "Board;Brain Games : 0.08000800080008001\n",
      "Entertainment;Brain Games : 0.08000800080008001\n",
      "Education;Pretend Play : 0.08000800080008001\n",
      "Casual;Creativity : 0.07000700070007\n",
      "Art & Design;Creativity : 0.07000700070007\n",
      "Parenting;Education : 0.07000700070007\n",
      "Parenting;Music & Video : 0.06000600060006001\n",
      "Role Playing;Action & Adventure : 0.06000600060006001\n",
      "Educational;Brain Games : 0.06000600060006001\n",
      "Puzzle;Action & Adventure : 0.05000500050005\n",
      "Role Playing;Pretend Play : 0.05000500050005\n",
      "Education;Creativity : 0.05000500050005\n",
      "Education;Music & Video : 0.05000500050005\n",
      "Education;Action & Adventure : 0.040004000400040006\n",
      "Education;Brain Games : 0.040004000400040006\n",
      "Educational;Action & Adventure : 0.040004000400040006\n",
      "Entertainment;Action & Adventure : 0.030003000300030006\n",
      "Entertainment;Creativity : 0.030003000300030006\n",
      "Simulation;Pretend Play : 0.030003000300030006\n",
      "Video Players & Editors;Music & Video : 0.030003000300030006\n",
      "Educational;Creativity : 0.030003000300030006\n",
      "Casual;Education : 0.020002000200020003\n",
      "Video Players & Editors;Creativity : 0.020002000200020003\n",
      "Music;Music & Video : 0.020002000200020003\n",
      "Board;Action & Adventure : 0.020002000200020003\n",
      "Casual;Music & Video : 0.020002000200020003\n",
      "Sports;Action & Adventure : 0.020002000200020003\n",
      "Art & Design;Action & Adventure : 0.020002000200020003\n",
      "Art & Design;Pretend Play : 0.020002000200020003\n",
      "Entertainment;Pretend Play : 0.020002000200020003\n",
      "Puzzle;Creativity : 0.020002000200020003\n",
      "Adventure;Education : 0.020002000200020003\n",
      "Health & Fitness;Action & Adventure : 0.010001000100010001\n",
      "Puzzle;Education : 0.010001000100010001\n",
      "Strategy;Education : 0.010001000100010001\n",
      "Simulation;Education : 0.010001000100010001\n",
      "Card;Brain Games : 0.010001000100010001\n",
      "Books & Reference;Education : 0.010001000100010001\n",
      "Tools;Education : 0.010001000100010001\n",
      "Communication;Creativity : 0.010001000100010001\n",
      "Lifestyle;Education : 0.010001000100010001\n",
      "Trivia;Education : 0.010001000100010001\n",
      "Strategy;Action & Adventure : 0.010001000100010001\n",
      "Comics;Creativity : 0.010001000100010001\n",
      "Entertainment;Education : 0.010001000100010001\n",
      "Parenting;Brain Games : 0.010001000100010001\n",
      "Lifestyle;Pretend Play : 0.010001000100010001\n",
      "Arcade;Pretend Play : 0.010001000100010001\n",
      "Health & Fitness;Education : 0.010001000100010001\n",
      "Role Playing;Brain Games : 0.010001000100010001\n",
      "Strategy;Creativity : 0.010001000100010001\n",
      "Racing;Pretend Play : 0.010001000100010001\n",
      "Travel & Local;Action & Adventure : 0.010001000100010001\n",
      "Card;Action & Adventure : 0.010001000100010001\n",
      "Music & Audio;Music & Video : 0.010001000100010001\n"
     ]
    }
   ],
   "source": [
    "print_asc(freq_table(android_free_apps,9)) "
   ]
  },
  {
   "cell_type": "markdown",
   "metadata": {},
   "source": [
    "# Most Popular Apps by Genre on The App Store \n",
    "after we created frequency table to isolate each genre we will sum all the user ratings "
   ]
  },
  {
   "cell_type": "code",
   "execution_count": 24,
   "metadata": {
    "collapsed": false
   },
   "outputs": [
    {
     "name": "stdout",
     "output_type": "stream",
     "text": [
      "Travel : 20216.01785714286\n",
      "Weather : 47220.93548387097\n",
      "Education : 6266.333333333333\n",
      "Business : 6367.8\n",
      "Medical : 459.75\n",
      "Food & Drink : 20179.093023255813\n",
      "Utilities : 14010.100917431193\n",
      "Shopping : 18746.677685950413\n",
      "Finance : 13522.261904761905\n",
      "Catalogs : 1779.5555555555557\n",
      "Entertainment : 10822.961077844311\n",
      "Games : 18924.68896765618\n",
      "Navigation : 25972.05\n",
      "Health & Fitness : 19952.315789473683\n",
      "Social Networking : 53078.195804195806\n",
      "News : 15892.724137931034\n",
      "Music : 56482.02985074627\n",
      "Reference : 67447.9\n",
      "Sports : 20128.974683544304\n",
      "Lifestyle : 8978.308510638299\n",
      "Photo & Video : 27249.892215568863\n",
      "Productivity : 19053.887096774193\n",
      "Book : 8498.333333333334\n"
     ]
    }
   ],
   "source": [
    "ios_genres = freq_table(ios_free_apps,11)\n",
    "for genre in ios_genres:\n",
    "    total_r = 0\n",
    "    tot_app = 0\n",
    "    for app in ios_free_apps:\n",
    "        if app[11] == genre:\n",
    "            total_r += float(app[5])\n",
    "            tot_app += 1\n",
    "    avg_ratings = total_r / tot_app\n",
    "    print(genre,\":\",avg_ratings)\n",
    "            "
   ]
  },
  {
   "cell_type": "markdown",
   "metadata": {},
   "source": [
    "On average, Reference apps have the highest number of user reviews,but this figure is heavily influenced by Bible ANd Dictionary that have more than +1.1m reviews  "
   ]
  },
  {
   "cell_type": "code",
   "execution_count": 26,
   "metadata": {
    "collapsed": false,
    "scrolled": false
   },
   "outputs": [
    {
     "name": "stdout",
     "output_type": "stream",
     "text": [
      "Bible : 985920\n",
      "Dictionary.com Dictionary & Thesaurus : 200047\n",
      "Dictionary.com Dictionary & Thesaurus for iPad : 54175\n",
      "Google Translate : 26786\n",
      "Muslim Pro: Ramadan 2017 Prayer Times, Azan, Quran : 18418\n",
      "New Furniture Mods - Pocket Wiki & Game Tools for Minecraft PC Edition : 17588\n",
      "Merriam-Webster Dictionary : 16849\n",
      "Night Sky : 12122\n",
      "City Maps for Minecraft PE - The Best Maps for Minecraft Pocket Edition (MCPE) : 8535\n",
      "LUCKY BLOCK MOD ™ for Minecraft PC Edition - The Best Pocket Wiki & Mods Installer Tools : 4693\n",
      "GUNS MODS for Minecraft PC Edition - Mods Tools : 1497\n",
      "Guides for Pokémon GO - Pokemon GO News and Cheats : 826\n",
      "WWDC : 762\n",
      "Horror Maps for Minecraft PE - Download The Scariest Maps for Minecraft Pocket Edition (MCPE) Free : 718\n",
      "VPN Express : 14\n",
      "Real Bike Traffic Rider Virtual Reality Glasses : 8\n",
      "教えて!goo : 0\n",
      "彩库宝典-【官方版】 : 0\n",
      "Jishokun-Japanese English Dictionary & Translator : 0\n",
      "無料で音楽や写真・カメラの裏技アプリ for iPhone7 : 0\n"
     ]
    }
   ],
   "source": [
    "for genre in ios_free_apps:\n",
    "    if genre[11] == \"Reference\":\n",
    "        print(genre[1],':',genre[5])"
   ]
  },
  {
   "cell_type": "markdown",
   "metadata": {},
   "source": [
    "\n",
    "The same pattern applies to social networking apps, where the average number is heavily influenced by a few giants like Facebook, Pinterest, Skype, etc. Same applies to music apps, where a few big players like Pandora, Spotify, and Shazam heavily influence the average number."
   ]
  },
  {
   "cell_type": "markdown",
   "metadata": {},
   "source": [
    "# Most popular Apps on Google play by  Number of installs \n"
   ]
  },
  {
   "cell_type": "code",
   "execution_count": 27,
   "metadata": {
    "collapsed": false
   },
   "outputs": [
    {
     "data": {
      "text/plain": [
       "{'0': 0.010001000100010001,\n",
       " '0+': 0.040004000400040006,\n",
       " '1+': 0.45004500450045004,\n",
       " '1,000+': 7.520752075207521,\n",
       " '1,000,000+': 15.52155215521552,\n",
       " '1,000,000,000+': 0.58005800580058,\n",
       " '10+': 3.1503150315031503,\n",
       " '10,000+': 9.160916091609161,\n",
       " '10,000,000+': 12.49124912491249,\n",
       " '100+': 6.200620062006201,\n",
       " '100,000+': 10.72107210721072,\n",
       " '100,000,000+': 4.09040904090409,\n",
       " '5+': 0.7000700070007001,\n",
       " '5,000+': 4.07040704070407,\n",
       " '5,000,000+': 7.500750075007501,\n",
       " '50+': 1.7101710171017102,\n",
       " '50,000+': 4.3004300430043,\n",
       " '50,000,000+': 2.8902890289028904,\n",
       " '500+': 2.9002900290029,\n",
       " '500,000+': 5.270527052705271,\n",
       " '500,000,000+': 0.7200720072007201}"
      ]
     },
     "execution_count": 27,
     "metadata": {},
     "output_type": "execute_result"
    }
   ],
   "source": [
    "freq_table(android_free_apps, 5)"
   ]
  },
  {
   "cell_type": "markdown",
   "metadata": {},
   "source": [
    "we loop then over the uniqe genre we created before "
   ]
  },
  {
   "cell_type": "code",
   "execution_count": 29,
   "metadata": {
    "collapsed": false
   },
   "outputs": [
    {
     "name": "stdout",
     "output_type": "stream",
     "text": [
      "TOOLS : 13585731.809015421\n",
      "COMICS : 934769.1666666666\n",
      "BUSINESS : 2178075.7934782607\n",
      "SHOPPING : 12491726.096153846\n",
      "PARENTING : 525351.8333333334\n",
      "FAMILY : 5201959.181034483\n",
      "EVENTS : 249580.640625\n",
      "MEDICAL : 115026.86177105832\n",
      "PHOTOGRAPHY : 30114172.10447761\n",
      "ENTERTAINMENT : 19256107.382550336\n",
      "DATING : 1129533.3632478632\n",
      "HEALTH_AND_FITNESS : 4642441.3841642225\n",
      "FOOD_AND_DRINK : 2156683.0787401577\n",
      "TRAVEL_AND_LOCAL : 26623593.58914729\n",
      "LIFESTYLE : 1407443.8193717278\n",
      "GAME : 30669601.761363637\n",
      "BEAUTY : 513151.88679245283\n",
      "BOOKS_AND_REFERENCE : 8318050.112554112\n",
      "LIBRARIES_AND_DEMO : 741128.3529411765\n",
      "AUTO_AND_VEHICLES : 625061.305882353\n",
      "PERSONALIZATION : 5932384.647959184\n",
      "MAPS_AND_NAVIGATION : 5286729.124087592\n",
      "COMMUNICATION : 84359886.95348836\n",
      "NEWS_AND_MAGAZINES : 26488755.335689045\n",
      "PRODUCTIVITY : 33434177.75707547\n",
      "SOCIAL : 47694467.46440678\n",
      "EDUCATION : 5586230.769230769\n",
      "ART_AND_DESIGN : 1912893.8461538462\n",
      "SPORTS : 4560350.255208333\n",
      "HOUSE_AND_HOME : 1917187.0568181819\n",
      "VIDEO_PLAYERS : 35554301.25714286\n",
      "FINANCE : 2395215.120218579\n",
      "WEATHER : 5196347.804878049\n"
     ]
    }
   ],
   "source": [
    "for genre in freq_table(android_free_apps,1):\n",
    "    tot_installs = 0\n",
    "    tot_app = 0\n",
    "    for app in android_list:\n",
    "        if app[1] == genre:\n",
    "            inst = app[5]\n",
    "            inst = inst.replace('+','').replace(',','')\n",
    "            tot_installs += float(inst)\n",
    "            tot_app += 1\n",
    "    avg_inst = tot_installs / tot_app\n",
    "    print(genre,':',avg_inst)"
   ]
  },
  {
   "cell_type": "markdown",
   "metadata": {},
   "source": [
    "n average, communication apps have the most installs 84,359,886 This number is heavily skewed up by a few apps that have over one billion installs (WhatsApp, Facebook Messenger, Skype, Google Chrome, Gmail, and Hangouts), and a few others with over 100 and 500 million installs"
   ]
  },
  {
   "cell_type": "code",
   "execution_count": 30,
   "metadata": {
    "collapsed": false
   },
   "outputs": [
    {
     "name": "stdout",
     "output_type": "stream",
     "text": [
      "Messenger – Text and Video Chat for Free : 1,000,000,000+\n",
      "WhatsApp Messenger : 1,000,000,000+\n",
      "Google Chrome: Fast & Secure : 1,000,000,000+\n",
      "Messenger Lite: Free Calls & Messages : 100,000,000+\n",
      "Gmail : 1,000,000,000+\n",
      "Hangouts : 1,000,000,000+\n",
      "Viber Messenger : 500,000,000+\n",
      "Firefox Browser fast & private : 100,000,000+\n",
      "Yahoo Mail – Stay Organized : 100,000,000+\n",
      "imo beta free calls and text : 100,000,000+\n",
      "imo free video calls and chat : 500,000,000+\n",
      "Opera Mini - fast web browser : 100,000,000+\n",
      "Opera Browser: Fast and Secure : 100,000,000+\n",
      "Who : 100,000,000+\n",
      "WeChat : 100,000,000+\n",
      "UC Browser Mini -Tiny Fast Private & Secure : 100,000,000+\n",
      "Android Messages : 100,000,000+\n",
      "Telegram : 100,000,000+\n",
      "Google Duo - High Quality Video Calls : 500,000,000+\n",
      "UC Browser - Fast Download Private & Secure : 500,000,000+\n",
      "WhatsApp Messenger : 1,000,000,000+\n",
      "Messenger – Text and Video Chat for Free : 1,000,000,000+\n",
      "imo free video calls and chat : 500,000,000+\n",
      "Viber Messenger : 500,000,000+\n",
      "Hangouts : 1,000,000,000+\n",
      "WeChat : 100,000,000+\n",
      "Skype - free IM & video calls : 1,000,000,000+\n",
      "Telegram : 100,000,000+\n",
      "Who : 100,000,000+\n",
      "GO SMS Pro - Messenger, Free Themes, Emoji : 100,000,000+\n",
      "Android Messages : 100,000,000+\n",
      "LINE: Free Calls & Messages : 500,000,000+\n",
      "BBM - Free Calls & Messages : 100,000,000+\n",
      "KakaoTalk: Free Calls & Text : 100,000,000+\n",
      "Google Chrome: Fast & Secure : 1,000,000,000+\n",
      "Firefox Browser fast & private : 100,000,000+\n",
      "Opera Browser: Fast and Secure : 100,000,000+\n",
      "Opera Mini - fast web browser : 100,000,000+\n",
      "UC Browser Mini -Tiny Fast Private & Secure : 100,000,000+\n",
      "UC Browser - Fast Download Private & Secure : 500,000,000+\n",
      "Viber Messenger : 500,000,000+\n",
      "Truecaller: Caller ID, SMS spam blocking & Dialer : 100,000,000+\n",
      "Gmail : 1,000,000,000+\n",
      "Yahoo Mail – Stay Organized : 100,000,000+\n",
      "Hangouts : 1,000,000,000+\n",
      "imo free video calls and chat : 500,000,000+\n",
      "Viber Messenger : 500,000,000+\n",
      "Skype - free IM & video calls : 1,000,000,000+\n",
      "WeChat : 100,000,000+\n",
      "LINE: Free Calls & Messages : 500,000,000+\n",
      "KakaoTalk: Free Calls & Text : 100,000,000+\n",
      "WhatsApp Messenger : 1,000,000,000+\n",
      "UC Browser - Fast Download Private & Secure : 500,000,000+\n",
      "Google Chrome: Fast & Secure : 1,000,000,000+\n",
      "Google Duo - High Quality Video Calls : 500,000,000+\n",
      "Firefox Browser fast & private : 100,000,000+\n",
      "Gmail : 1,000,000,000+\n",
      "Messenger – Text and Video Chat for Free : 1,000,000,000+\n",
      "Messenger Lite: Free Calls & Messages : 100,000,000+\n",
      "LINE: Free Calls & Messages : 500,000,000+\n",
      "imo beta free calls and text : 100,000,000+\n",
      "Hangouts : 1,000,000,000+\n",
      "imo free video calls and chat : 500,000,000+\n",
      "Skype - free IM & video calls : 1,000,000,000+\n",
      "Kik : 100,000,000+\n",
      "KakaoTalk: Free Calls & Text : 100,000,000+\n",
      "Opera Mini - fast web browser : 100,000,000+\n",
      "Opera Browser: Fast and Secure : 100,000,000+\n",
      "Telegram : 100,000,000+\n",
      "Truecaller: Caller ID, SMS spam blocking & Dialer : 100,000,000+\n",
      "UC Browser Mini -Tiny Fast Private & Secure : 100,000,000+\n",
      "Viber Messenger : 500,000,000+\n",
      "WeChat : 100,000,000+\n",
      "Yahoo Mail – Stay Organized : 100,000,000+\n",
      "BBM - Free Calls & Messages : 100,000,000+\n"
     ]
    }
   ],
   "source": [
    "for app in android_free_apps:\n",
    "    if app[1] == 'COMMUNICATION' and (app[5] == '1,000,000,000+'\n",
    "                                      or app[5] == '500,000,000+'\n",
    "                                      or app[5] == '100,000,000+'):\n",
    "        print(app[0], ':', app[5])"
   ]
  },
  {
   "cell_type": "markdown",
   "metadata": {},
   "source": [
    "If we removed all the communication apps that have over 100 million installs, the average would be reduced roughly ten times:"
   ]
  },
  {
   "cell_type": "code",
   "execution_count": 31,
   "metadata": {
    "collapsed": false
   },
   "outputs": [
    {
     "data": {
      "text/plain": [
       "4386993.665492957"
      ]
     },
     "execution_count": 31,
     "metadata": {},
     "output_type": "execute_result"
    }
   ],
   "source": [
    "\n",
    "under_100_m = []\n",
    "\n",
    "for app in android_free_apps:\n",
    "    n_installs = app[5]\n",
    "    n_installs = n_installs.replace(',', '').replace('+', '')\n",
    "    if (app[1] == 'COMMUNICATION') and (float(n_installs) < 100000000):\n",
    "        under_100_m.append(float(n_installs))\n",
    "        \n",
    "sum(under_100_m) / len(under_100_m)"
   ]
  },
  {
   "cell_type": "markdown",
   "metadata": {},
   "source": [
    "After all there always a dominating apps in each genre But the genre that have like social or networking have the most installs so i reccommend developing a online multiplayer game but involving some ai or even ar "
   ]
  }
 ],
 "metadata": {
  "kernelspec": {
   "display_name": "Python 3",
   "language": "python",
   "name": "python3"
  },
  "language_info": {
   "codemirror_mode": {
    "name": "ipython",
    "version": 3
   },
   "file_extension": ".py",
   "mimetype": "text/x-python",
   "name": "python",
   "nbconvert_exporter": "python",
   "pygments_lexer": "ipython3",
   "version": "3.4.3"
  }
 },
 "nbformat": 4,
 "nbformat_minor": 2
}
