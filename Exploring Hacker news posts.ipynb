{
 "cells": [
  {
   "cell_type": "markdown",
   "metadata": {
    "collapsed": true
   },
   "source": [
    "# Exploring Hacker News Posts\n",
    "You can find the data set here https://www.kaggle.com/hacker-news/hacker-news-posts \n",
    "doing some data analysis on this data set "
   ]
  },
  {
   "cell_type": "code",
   "execution_count": 1,
   "metadata": {
    "collapsed": false,
    "scrolled": true
   },
   "outputs": [
    {
     "name": "stdout",
     "output_type": "stream",
     "text": [
      "[['id', 'title', 'url', 'num_points', 'num_comments', 'author', 'created_at'], ['12224879', 'Interactive Dynamic Video', 'http://www.interactivedynamicvideo.com/', '386', '52', 'ne0phyte', '8/4/2016 11:52'], ['10975351', 'How to Use Open Source and Shut the Fuck Up at the Same Time', 'http://hueniverse.com/2016/01/26/how-to-use-open-source-and-shut-the-fuck-up-at-the-same-time/', '39', '10', 'josep2', '1/26/2016 19:30'], ['11964716', \"Florida DJs May Face Felony for April Fools' Water Joke\", 'http://www.thewire.com/entertainment/2013/04/florida-djs-april-fools-water-joke/63798/', '2', '1', 'vezycash', '6/23/2016 22:20'], ['11919867', 'Technology ventures: From Idea to Enterprise', 'https://www.amazon.com/Technology-Ventures-Enterprise-Thomas-Byers/dp/0073523429', '3', '1', 'hswarna', '6/17/2016 0:01']]\n"
     ]
    }
   ],
   "source": [
    "from csv import reader \n",
    "file_open = open('hacker_news.csv')\n",
    "file_read = reader(file_open)\n",
    "hn = list(file_read)\n",
    "print(hn[:5])"
   ]
  },
  {
   "cell_type": "markdown",
   "metadata": {},
   "source": [
    "Extract the header "
   ]
  },
  {
   "cell_type": "code",
   "execution_count": 2,
   "metadata": {
    "collapsed": true
   },
   "outputs": [],
   "source": [
    "headers = hn[0]"
   ]
  },
  {
   "cell_type": "markdown",
   "metadata": {},
   "source": [
    "update hn and remove the header"
   ]
  },
  {
   "cell_type": "code",
   "execution_count": 5,
   "metadata": {
    "collapsed": false,
    "scrolled": false
   },
   "outputs": [
    {
     "name": "stdout",
     "output_type": "stream",
     "text": [
      "['id', 'title', 'url', 'num_points', 'num_comments', 'author', 'created_at']\n",
      "\n",
      "[['11964716', \"Florida DJs May Face Felony for April Fools' Water Joke\", 'http://www.thewire.com/entertainment/2013/04/florida-djs-april-fools-water-joke/63798/', '2', '1', 'vezycash', '6/23/2016 22:20'], ['11919867', 'Technology ventures: From Idea to Enterprise', 'https://www.amazon.com/Technology-Ventures-Enterprise-Thomas-Byers/dp/0073523429', '3', '1', 'hswarna', '6/17/2016 0:01'], ['10301696', 'Note by Note: The Making of Steinway L1037 (2007)', 'http://www.nytimes.com/2007/11/07/movies/07stein.html?_r=0', '8', '2', 'walterbell', '9/30/2015 4:12'], ['10482257', 'Title II kills investment? Comcast and other ISPs are now spending more', 'http://arstechnica.com/business/2015/10/comcast-and-other-isps-boost-network-investment-despite-net-neutrality/', '53', '22', 'Deinos', '10/31/2015 9:48'], ['10557283', 'Nuts and Bolts Business Advice', '', '3', '4', 'shomberj', '11/13/2015 0:45']]\n"
     ]
    }
   ],
   "source": [
    "hn = hn[1:]\n",
    "print(headers,end = \"\\n\\n\")\n",
    "print(hn[:5])"
   ]
  },
  {
   "cell_type": "markdown",
   "metadata": {},
   "source": [
    "now we only interested in posts start with Ask HN or Show Hn "
   ]
  },
  {
   "cell_type": "code",
   "execution_count": 9,
   "metadata": {
    "collapsed": false,
    "scrolled": true
   },
   "outputs": [
    {
     "name": "stdout",
     "output_type": "stream",
     "text": [
      "Number of Ask Posts :  1744 Number of Show Posts :  1162  Number of Others Post :  17192\n"
     ]
    }
   ],
   "source": [
    "ask_posts = []\n",
    "show_posts = []\n",
    "other_posts = []\n",
    "for row in hn:\n",
    "    title = row[1].lower()\n",
    "    if title.startswith('ask hn'):\n",
    "        ask_posts.append(row)\n",
    "    elif title.startswith('show hn'):\n",
    "        show_posts.append(row)\n",
    "    else:\n",
    "        other_posts.append(row)\n",
    "print('Number of Ask Posts : ',len(ask_posts),'Number of Show Posts : ',len(show_posts),' Number of Others Post : ',len(other_posts))        \n"
   ]
  },
  {
   "cell_type": "markdown",
   "metadata": {},
   "source": [
    "Next, let's determine if ask posts or show posts receive more comments on average."
   ]
  },
  {
   "cell_type": "code",
   "execution_count": 10,
   "metadata": {
    "collapsed": false,
    "scrolled": true
   },
   "outputs": [
    {
     "name": "stdout",
     "output_type": "stream",
     "text": [
      "average Ask Comments 14.038417431192661\n",
      "average Show Comments 10.31669535283993\n"
     ]
    }
   ],
   "source": [
    "total_ask_comments = 0\n",
    "total_show_comments = 0\n",
    "for row in ask_posts:\n",
    "    total_ask_comments += float(row[4])\n",
    "avg_ask_comments = total_ask_comments / len(ask_posts)\n",
    "print('average Ask Comments',avg_ask_comments)\n",
    "\n",
    "for row in show_posts:\n",
    "    total_show_comments += float(row[4])\n",
    "avg_show_comments = total_show_comments / len(show_posts)\n",
    "print('average Show Comments',avg_show_comments)"
   ]
  },
  {
   "cell_type": "markdown",
   "metadata": {},
   "source": [
    "As expected Ask hacker Rannk posts get more comments as lot of ppl want to help \n",
    "so we will keep working on this posts"
   ]
  },
  {
   "cell_type": "code",
   "execution_count": 20,
   "metadata": {
    "collapsed": false,
    "scrolled": true
   },
   "outputs": [
    {
     "name": "stdout",
     "output_type": "stream",
     "text": [
      "{'15': 116, '05': 46, '01': 60, '03': 54, '12': 73, '22': 71, '16': 108, '02': 58, '00': 55, '04': 47, '14': 107, '07': 34, '19': 110, '13': 85, '06': 44, '08': 48, '10': 59, '20': 80, '09': 45, '23': 68, '11': 58, '21': 109, '17': 100, '18': 109}\n"
     ]
    }
   ],
   "source": [
    "import datetime as dt \n",
    "result_list = []\n",
    "for row in ask_posts:\n",
    "    result_list.append([row[6],int(row[4])])\n",
    "counts_by_hour = {}\n",
    "comments_by_hour = {}\n",
    "for row in result_list:\n",
    "    date = row[0]\n",
    "    comments = row[1]\n",
    "    date_format = \"%m/%d/%Y %H:%M\"\n",
    "    time=dt.datetime.strptime(date,date_format).strftime(\"%H\")\n",
    "\n",
    "    if time in counts_by_hour:\n",
    "        counts_by_hour[time]+=1\n",
    "        comments_by_hour[time]+=comments\n",
    "    else:\n",
    "        counts_by_hour[time]=1\n",
    "        comments_by_hour[time]=comments\n",
    "print(counts_by_hour)        \n",
    "    \n",
    "    "
   ]
  },
  {
   "cell_type": "code",
   "execution_count": 21,
   "metadata": {
    "collapsed": false,
    "scrolled": true
   },
   "outputs": [
    {
     "data": {
      "text/plain": [
       "[['15', 38.5948275862069],\n",
       " ['05', 10.08695652173913],\n",
       " ['01', 11.383333333333333],\n",
       " ['03', 7.796296296296297],\n",
       " ['12', 9.41095890410959],\n",
       " ['22', 6.746478873239437],\n",
       " ['16', 16.796296296296298],\n",
       " ['02', 23.810344827586206],\n",
       " ['00', 8.127272727272727],\n",
       " ['04', 7.170212765957447],\n",
       " ['14', 13.233644859813085],\n",
       " ['07', 7.852941176470588],\n",
       " ['19', 10.8],\n",
       " ['13', 14.741176470588234],\n",
       " ['06', 9.022727272727273],\n",
       " ['08', 10.25],\n",
       " ['10', 13.440677966101696],\n",
       " ['20', 21.525],\n",
       " ['09', 5.5777777777777775],\n",
       " ['23', 7.985294117647059],\n",
       " ['11', 11.051724137931034],\n",
       " ['21', 16.009174311926607],\n",
       " ['17', 11.46],\n",
       " ['18', 13.20183486238532]]"
      ]
     },
     "execution_count": 21,
     "metadata": {},
     "output_type": "execute_result"
    }
   ],
   "source": [
    "avg_by_hour = []\n",
    "\n",
    "for hr in comments_by_hour:\n",
    "    avg_by_hour.append([hr, comments_by_hour[hr] / counts_by_hour[hr]])\n",
    "\n",
    "avg_by_hour"
   ]
  },
  {
   "cell_type": "code",
   "execution_count": 22,
   "metadata": {
    "collapsed": false
   },
   "outputs": [
    {
     "name": "stdout",
     "output_type": "stream",
     "text": [
      "[[38.5948275862069, '15'], [10.08695652173913, '05'], [11.383333333333333, '01'], [7.796296296296297, '03'], [9.41095890410959, '12'], [6.746478873239437, '22'], [16.796296296296298, '16'], [23.810344827586206, '02'], [8.127272727272727, '00'], [7.170212765957447, '04'], [13.233644859813085, '14'], [7.852941176470588, '07'], [10.8, '19'], [14.741176470588234, '13'], [9.022727272727273, '06'], [10.25, '08'], [13.440677966101696, '10'], [21.525, '20'], [5.5777777777777775, '09'], [7.985294117647059, '23'], [11.051724137931034, '11'], [16.009174311926607, '21'], [11.46, '17'], [13.20183486238532, '18']]\n"
     ]
    },
    {
     "data": {
      "text/plain": [
       "[[38.5948275862069, '15'],\n",
       " [23.810344827586206, '02'],\n",
       " [21.525, '20'],\n",
       " [16.796296296296298, '16'],\n",
       " [16.009174311926607, '21'],\n",
       " [14.741176470588234, '13'],\n",
       " [13.440677966101696, '10'],\n",
       " [13.233644859813085, '14'],\n",
       " [13.20183486238532, '18'],\n",
       " [11.46, '17'],\n",
       " [11.383333333333333, '01'],\n",
       " [11.051724137931034, '11'],\n",
       " [10.8, '19'],\n",
       " [10.25, '08'],\n",
       " [10.08695652173913, '05'],\n",
       " [9.41095890410959, '12'],\n",
       " [9.022727272727273, '06'],\n",
       " [8.127272727272727, '00'],\n",
       " [7.985294117647059, '23'],\n",
       " [7.852941176470588, '07'],\n",
       " [7.796296296296297, '03'],\n",
       " [7.170212765957447, '04'],\n",
       " [6.746478873239437, '22'],\n",
       " [5.5777777777777775, '09']]"
      ]
     },
     "execution_count": 22,
     "metadata": {},
     "output_type": "execute_result"
    }
   ],
   "source": [
    "swap_avg_by_hour = []\n",
    "\n",
    "for row in avg_by_hour:\n",
    "    swap_avg_by_hour.append([row[1], row[0]])\n",
    "    \n",
    "print(swap_avg_by_hour)\n",
    "\n",
    "sorted_swap = sorted(swap_avg_by_hour, reverse=True)\n",
    "\n",
    "sorted_swap"
   ]
  }
 ],
 "metadata": {
  "kernelspec": {
   "display_name": "Python 3",
   "language": "python",
   "name": "python3"
  },
  "language_info": {
   "codemirror_mode": {
    "name": "ipython",
    "version": 3
   },
   "file_extension": ".py",
   "mimetype": "text/x-python",
   "name": "python",
   "nbconvert_exporter": "python",
   "pygments_lexer": "ipython3",
   "version": "3.4.3"
  }
 },
 "nbformat": 4,
 "nbformat_minor": 2
}
